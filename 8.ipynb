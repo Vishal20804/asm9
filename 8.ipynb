{
 "cells": [
  {
   "cell_type": "code",
   "execution_count": null,
   "id": "856df635-8b35-42fd-b940-b6d484dd8bfd",
   "metadata": {},
   "outputs": [],
   "source": [
    "Ans:1\n",
    "independen random sampling\n",
    "homoginious variances\n",
    "normal distribution\n",
    "independence"
   ]
  },
  {
   "cell_type": "code",
   "execution_count": null,
   "id": "ddece2a2-bae0-48a1-89dd-b16448e9f698",
   "metadata": {},
   "outputs": [],
   "source": [
    "Ans:2\n",
    "ANOVA has three types: single-factor ANOVA (also known as one-way ANOVA), two-factor ANOVA, and analysis of covariance (ANCOVA). Each type serves different purposes depending on the research question, the nature of independent and dependent variables, and experimental desig"
   ]
  },
  {
   "cell_type": "code",
   "execution_count": null,
   "id": "16028840-fa01-42e6-9ef7-da3e38f10759",
   "metadata": {},
   "outputs": [],
   "source": [
    "Ans:3\n",
    "Partitioning of variance refers to splitting the total variability observed in a dataset into various components based on specific statistical methods such as Analysis of Variance (ANOVA), Multiple Regression, or Path Analysis. Each method partitions the total variability into different categories according to how the data were collected or analyzed. "
   ]
  },
  {
   "cell_type": "code",
   "execution_count": null,
   "id": "3845573c-4b02-4a96-9e12-47f9926d8b27",
   "metadata": {},
   "outputs": [],
   "source": [
    "Ans:4\n",
    "In python we use scipy module for calculating sums of squared. SST = SS + SSE + SSR\n",
    "SS = sum((x - x_group_mean)^2 * n / n_) #the variation between cases (treatsment)\n",
    "SSE= sum(y_j^2)n / n_j#the variation within groups\n",
    "SSR = (N - k) * sum((x - muguard)^2 * n/ n__) // (k-1)+(n-mguadr+1)/(nk)-n//k #residuals sum of squares\n",
    "If the formulae look unfamiliar please let me know and i will provide further explanation.\n",
    "The formulae are calculated separately for each column if you have the table set up as columns otherwise they would be calculated together."
   ]
  },
  {
   "cell_type": "code",
   "execution_count": null,
   "id": "9e969501-f990-4097-869a-812f9cd1d977",
   "metadata": {},
   "outputs": [],
   "source": [
    "Ans:5\n",
    "def twoWayAnova(X):\n",
    "    # Step 0: Standardize X matrix\n",
    "    X = X - np.mean(X)\n",
    "    \n",
    "    # Step 1a: Calculate Sum of Squares Between Groups Main Effect\n",
    "    SSmainbetweensubs = np.sum((np.mean(X[np.random.randint(len(X))], axis=1) - np.mean(X))**2)\n",
    "        \n",
    "    # Step 1b: Calculate Sum of Squares Within Groups Main Effect\n",
    "    SStargetsubjs = np.sum(np.power(X[np.random.randint(len(X)), :] - np.mean(X), 2).sum())\n",
    "    \n",
    "    # Step 2a: Compute Totals Sum of Squares Main Effects Interaction Component\n",
    "    SStotalinteract = ((SSmainbetweensubs * SStargetsubjs) - SSmainbetweensubs\n",
    "                     - SStargetsubjs + SSmainbetweensubs - SStargetsubjs)[::]\n",
    "    \n",
    "    # Step 3: Recalculate Total Sum of Squares\n",
    "    if len(X) == 2:\n",
    "        SStotalstypes = SSmainbetweensabs\n",
    "    elif 2 <= len(X):\n",
    "        SStotalstypes = SStargetsubjs\n",
    "    else:\n",
    "        raise ValueError('Length should not exceed 2.')\n",
    "            \n",
    "    return [SSmainbetweensubs, SStargetsubjs, SStotalinteract, SStotalstypes]"
   ]
  },
  {
   "cell_type": "code",
   "execution_count": null,
   "id": "22a03d41-86bd-4e1c-bd7d-102120088dcd",
   "metadata": {},
   "outputs": [],
   "source": [
    "Ans:6\n",
    "If the F statistic value is equal to 5.23 and the associated P-Value is less than 0.05 which means it's smaller than 0.05 it shows evidence against the null hypothesis hence indicating a significant difference among all group mean. Which means the treatments applied caused a significant change in the measured variable when compared to another treatment. It could mean a lot of things depending on what type of experiment your conducting. When interpreting the results remember there is no information provided whether this change resulted in an increase or decrease however there is implication towards either because higher or lower is better depends on the goal post or metric used in the study. Would like some more context before coming to conclusion. Could provide further insight into experimental design perhaps."
   ]
  },
  {
   "cell_type": "code",
   "execution_count": null,
   "id": "9df8dfe1-d642-4391-969d-878a55597efa",
   "metadata": {},
   "outputs": [],
   "source": [
    "Ans:7\n",
    " flexibility in missing data management options combined with careful evaluation of graphic outputs helps ensure defensible model specification across disciplines involving intensive longitudinal data structures. While restrictive classical guidelines often ignore complexities inherently present in social science designs, adaptable recommendations enable balanced decision making despite uncertainty surrounding analytical solutions to missingness problems. Evaluation requires monitoring output plots during early stage exploration while remaining open toward implementing more traditional rules only after confirmatory checks for improper fits and lack of congruence or convergence failures appear evident enough to warrant ignoring complex interactions underlying nonclassification data problems beyond attrition. Ultimately, comprehension germane to specialized subject areas along with informed judgment enables effective responses even where no universal prescriptions exist. Divergent scenarios call for nuanced judgments reflecting unique circumstances to decide how best addressing incomplete observations based on current literature knowledge and practical experience with similar projects’ strengths and weaknesses."
   ]
  }
 ],
 "metadata": {
  "kernelspec": {
   "display_name": "Python 3 (ipykernel)",
   "language": "python",
   "name": "python3"
  },
  "language_info": {
   "codemirror_mode": {
    "name": "ipython",
    "version": 3
   },
   "file_extension": ".py",
   "mimetype": "text/x-python",
   "name": "python",
   "nbconvert_exporter": "python",
   "pygments_lexer": "ipython3",
   "version": "3.10.8"
  }
 },
 "nbformat": 4,
 "nbformat_minor": 5
}
